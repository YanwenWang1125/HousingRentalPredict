{
 "cells": [
  {
   "cell_type": "code",
   "execution_count": 1,
   "id": "dd05fe4c",
   "metadata": {
    "_cell_guid": "2e295837-d870-4773-bfcb-ee06dd43452c",
    "_uuid": "1bc58f9d-654c-4d03-a417-1d5b59114036",
    "collapsed": false,
    "execution": {
     "iopub.execute_input": "2024-10-16T22:15:30.201152Z",
     "iopub.status.busy": "2024-10-16T22:15:30.200776Z",
     "iopub.status.idle": "2024-10-16T22:15:30.966140Z",
     "shell.execute_reply": "2024-10-16T22:15:30.965112Z"
    },
    "jupyter": {
     "outputs_hidden": false
    },
    "papermill": {
     "duration": 0.782054,
     "end_time": "2024-10-16T22:15:30.968878",
     "exception": false,
     "start_time": "2024-10-16T22:15:30.186824",
     "status": "completed"
    },
    "tags": []
   },
   "outputs": [
    {
     "name": "stdout",
     "output_type": "stream",
     "text": [
      "/kaggle/input/25000-canadian-rental-housing-market-june-2024/rentfaster.csv\n"
     ]
    }
   ],
   "source": [
    "# This Python 3 environment comes with many helpful analytics libraries installed\n",
    "# It is defined by the kaggle/python Docker image: https://github.com/kaggle/docker-python\n",
    "# For example, here's several helpful packages to load\n",
    "\n",
    "import numpy as np # linear algebra\n",
    "import pandas as pd # data processing, CSV file I/O (e.g. pd.read_csv)\n",
    "\n",
    "# Input data files are available in the read-only \"../input/\" directory\n",
    "# For example, running this (by clicking run or pressing Shift+Enter) will list all files under the input directory\n",
    "\n",
    "import os\n",
    "for dirname, _, filenames in os.walk('/kaggle/input'):\n",
    "    for filename in filenames:\n",
    "        print(os.path.join(dirname, filename))\n",
    "\n",
    "# You can write up to 20GB to the current directory (/kaggle/working/) that gets preserved as output when you create a version using \"Save & Run All\" \n",
    "# You can also write temporary files to /kaggle/temp/, but they won't be saved outside of the current session"
   ]
  },
  {
   "cell_type": "markdown",
   "id": "e5af5847",
   "metadata": {
    "papermill": {
     "duration": 0.011592,
     "end_time": "2024-10-16T22:15:30.992598",
     "exception": false,
     "start_time": "2024-10-16T22:15:30.981006",
     "status": "completed"
    },
    "tags": []
   },
   "source": [
    "# 1. Enviorment build up"
   ]
  },
  {
   "cell_type": "markdown",
   "id": "218f6ad1",
   "metadata": {
    "_cell_guid": "0582b8ea-fec0-44f5-b8e6-c8627abcbe66",
    "_uuid": "8b482da5-4810-4339-8bb1-606ac016a103",
    "papermill": {
     "duration": 0.010493,
     "end_time": "2024-10-16T22:15:31.013999",
     "exception": false,
     "start_time": "2024-10-16T22:15:31.003506",
     "status": "completed"
    },
    "tags": []
   },
   "source": [
    "**1.1 Import helpful libraries**"
   ]
  },
  {
   "cell_type": "code",
   "execution_count": 2,
   "id": "94009a8c",
   "metadata": {
    "_cell_guid": "bfbae71b-1f5b-47d1-bfcc-1162940d223a",
    "_uuid": "54ff0ccb-71e4-495a-8dff-9567e74faf01",
    "execution": {
     "iopub.execute_input": "2024-10-16T22:15:31.039197Z",
     "iopub.status.busy": "2024-10-16T22:15:31.038185Z",
     "iopub.status.idle": "2024-10-16T22:15:32.897382Z",
     "shell.execute_reply": "2024-10-16T22:15:32.896493Z"
    },
    "papermill": {
     "duration": 1.875016,
     "end_time": "2024-10-16T22:15:32.899840",
     "exception": false,
     "start_time": "2024-10-16T22:15:31.024824",
     "status": "completed"
    },
    "tags": []
   },
   "outputs": [],
   "source": [
    "import pandas as pd\n",
    "from sklearn.ensemble import RandomForestRegressor\n",
    "from sklearn.metrics import mean_absolute_error\n",
    "from sklearn.model_selection import train_test_split\n",
    "from sklearn.impute import SimpleImputer\n",
    "from sklearn.preprocessing import OrdinalEncoder\n",
    "import re\n",
    "import matplotlib.pyplot as plt\n",
    "import seaborn as sns\n",
    "import math\n",
    "from datetime import datetime\n",
    "from tabulate import tabulate"
   ]
  },
  {
   "cell_type": "markdown",
   "id": "92a5fb55",
   "metadata": {
    "_cell_guid": "c2eada52-c97a-444b-b996-c0ff5b372a3a",
    "_uuid": "fb46e2a1-c0e3-48d7-8dc2-f3b1dbf1e7d9",
    "papermill": {
     "duration": 0.010717,
     "end_time": "2024-10-16T22:15:32.921565",
     "exception": false,
     "start_time": "2024-10-16T22:15:32.910848",
     "status": "completed"
    },
    "tags": []
   },
   "source": [
    "**1.2 Load and Show the data**"
   ]
  },
  {
   "cell_type": "code",
   "execution_count": 3,
   "id": "151ea541",
   "metadata": {
    "_cell_guid": "189d9fac-59a4-4934-bc15-0bcd163133ec",
    "_uuid": "b2acc68f-ac4c-46f1-b797-4ad2fb077c03",
    "collapsed": false,
    "execution": {
     "iopub.execute_input": "2024-10-16T22:15:32.945131Z",
     "iopub.status.busy": "2024-10-16T22:15:32.944603Z",
     "iopub.status.idle": "2024-10-16T22:15:33.174807Z",
     "shell.execute_reply": "2024-10-16T22:15:33.173821Z"
    },
    "jupyter": {
     "outputs_hidden": false
    },
    "papermill": {
     "duration": 0.244895,
     "end_time": "2024-10-16T22:15:33.177310",
     "exception": false,
     "start_time": "2024-10-16T22:15:32.932415",
     "status": "completed"
    },
    "tags": []
   },
   "outputs": [
    {
     "name": "stdout",
     "output_type": "stream",
     "text": [
      "Overview of the DataFrame, including data types and non-null counts: \n",
      "\n",
      "<class 'pandas.core.frame.DataFrame'>\n",
      "RangeIndex: 25771 entries, 0 to 25770\n",
      "Data columns (total 18 columns):\n",
      " #   Column             Non-Null Count  Dtype  \n",
      "---  ------             --------------  -----  \n",
      " 0   rentfaster_id      25771 non-null  int64  \n",
      " 1   city               25771 non-null  object \n",
      " 2   province           25771 non-null  object \n",
      " 3   address            25646 non-null  object \n",
      " 4   latitude           25771 non-null  float64\n",
      " 5   longitude          25771 non-null  float64\n",
      " 6   lease_term         25725 non-null  object \n",
      " 7   type               25771 non-null  object \n",
      " 8   price              25771 non-null  float64\n",
      " 9   beds               25639 non-null  object \n",
      " 10  baths              25637 non-null  object \n",
      " 11  sq_feet            21659 non-null  object \n",
      " 12  link               25771 non-null  object \n",
      " 13  furnishing         25771 non-null  object \n",
      " 14  availability_date  25759 non-null  object \n",
      " 15  smoking            23069 non-null  object \n",
      " 16  cats               25598 non-null  object \n",
      " 17  dogs               25598 non-null  object \n",
      "dtypes: float64(3), int64(1), object(14)\n",
      "memory usage: 3.5+ MB\n"
     ]
    }
   ],
   "source": [
    "file_path = '../input/25000-canadian-rental-housing-market-june-2024/rentfaster.csv'\n",
    "# try to read the file from the kaggle input\n",
    "try:\n",
    "    # load the data from the kaggle input\n",
    "    original_data = pd.read_csv(file_path)\n",
    "except FileNotFoundError:\n",
    "    # if the file is not found, read the file from the local file   \n",
    "    file_path = 'rentfaster.csv'\n",
    "    original_data = pd.read_csv(file_path)\n",
    "    \n",
    "print(\"Overview of the DataFrame, including data types and non-null counts: \\n\")\n",
    "original_data.info()"
   ]
  },
  {
   "cell_type": "code",
   "execution_count": 4,
   "id": "4b3bd973",
   "metadata": {
    "_cell_guid": "52e20a21-9870-444f-895e-d4b45f8c75a0",
    "_uuid": "d4543955-dfd4-4d26-a192-9cadb9b27eb3",
    "collapsed": false,
    "execution": {
     "iopub.execute_input": "2024-10-16T22:15:33.201351Z",
     "iopub.status.busy": "2024-10-16T22:15:33.200671Z",
     "iopub.status.idle": "2024-10-16T22:15:33.225019Z",
     "shell.execute_reply": "2024-10-16T22:15:33.224030Z"
    },
    "jupyter": {
     "outputs_hidden": false
    },
    "papermill": {
     "duration": 0.038692,
     "end_time": "2024-10-16T22:15:33.227157",
     "exception": false,
     "start_time": "2024-10-16T22:15:33.188465",
     "status": "completed"
    },
    "tags": []
   },
   "outputs": [
    {
     "data": {
      "text/html": [
       "<div>\n",
       "<style scoped>\n",
       "    .dataframe tbody tr th:only-of-type {\n",
       "        vertical-align: middle;\n",
       "    }\n",
       "\n",
       "    .dataframe tbody tr th {\n",
       "        vertical-align: top;\n",
       "    }\n",
       "\n",
       "    .dataframe thead th {\n",
       "        text-align: right;\n",
       "    }\n",
       "</style>\n",
       "<table border=\"1\" class=\"dataframe\">\n",
       "  <thead>\n",
       "    <tr style=\"text-align: right;\">\n",
       "      <th></th>\n",
       "      <th>rentfaster_id</th>\n",
       "      <th>city</th>\n",
       "      <th>province</th>\n",
       "      <th>address</th>\n",
       "      <th>latitude</th>\n",
       "      <th>longitude</th>\n",
       "      <th>lease_term</th>\n",
       "      <th>type</th>\n",
       "      <th>price</th>\n",
       "      <th>beds</th>\n",
       "      <th>baths</th>\n",
       "      <th>sq_feet</th>\n",
       "      <th>link</th>\n",
       "      <th>furnishing</th>\n",
       "      <th>availability_date</th>\n",
       "      <th>smoking</th>\n",
       "      <th>cats</th>\n",
       "      <th>dogs</th>\n",
       "    </tr>\n",
       "  </thead>\n",
       "  <tbody>\n",
       "    <tr>\n",
       "      <th>0</th>\n",
       "      <td>468622</td>\n",
       "      <td>Airdrie</td>\n",
       "      <td>Alberta</td>\n",
       "      <td>69 Gateway Dr NE</td>\n",
       "      <td>51.305962</td>\n",
       "      <td>-114.012515</td>\n",
       "      <td>Long Term</td>\n",
       "      <td>Townhouse</td>\n",
       "      <td>2495.0</td>\n",
       "      <td>2 Beds</td>\n",
       "      <td>2.5</td>\n",
       "      <td>1403</td>\n",
       "      <td>/ab/airdrie/rentals/townhouse/2-bedrooms/pet-f...</td>\n",
       "      <td>Unfurnished</td>\n",
       "      <td>Immediate</td>\n",
       "      <td>Non-Smoking</td>\n",
       "      <td>True</td>\n",
       "      <td>True</td>\n",
       "    </tr>\n",
       "    <tr>\n",
       "      <th>1</th>\n",
       "      <td>468622</td>\n",
       "      <td>Airdrie</td>\n",
       "      <td>Alberta</td>\n",
       "      <td>69 Gateway Dr NE</td>\n",
       "      <td>51.305962</td>\n",
       "      <td>-114.012515</td>\n",
       "      <td>Long Term</td>\n",
       "      <td>Townhouse</td>\n",
       "      <td>2695.0</td>\n",
       "      <td>3 Beds</td>\n",
       "      <td>2.5</td>\n",
       "      <td>1496</td>\n",
       "      <td>/ab/airdrie/rentals/townhouse/2-bedrooms/pet-f...</td>\n",
       "      <td>Unfurnished</td>\n",
       "      <td>Immediate</td>\n",
       "      <td>Non-Smoking</td>\n",
       "      <td>True</td>\n",
       "      <td>True</td>\n",
       "    </tr>\n",
       "    <tr>\n",
       "      <th>2</th>\n",
       "      <td>468622</td>\n",
       "      <td>Airdrie</td>\n",
       "      <td>Alberta</td>\n",
       "      <td>69 Gateway Dr NE</td>\n",
       "      <td>51.305962</td>\n",
       "      <td>-114.012515</td>\n",
       "      <td>Long Term</td>\n",
       "      <td>Townhouse</td>\n",
       "      <td>2295.0</td>\n",
       "      <td>2 Beds</td>\n",
       "      <td>2.5</td>\n",
       "      <td>1180</td>\n",
       "      <td>/ab/airdrie/rentals/townhouse/2-bedrooms/pet-f...</td>\n",
       "      <td>Unfurnished</td>\n",
       "      <td>Immediate</td>\n",
       "      <td>Non-Smoking</td>\n",
       "      <td>True</td>\n",
       "      <td>True</td>\n",
       "    </tr>\n",
       "    <tr>\n",
       "      <th>3</th>\n",
       "      <td>468622</td>\n",
       "      <td>Airdrie</td>\n",
       "      <td>Alberta</td>\n",
       "      <td>69 Gateway Dr NE</td>\n",
       "      <td>51.305962</td>\n",
       "      <td>-114.012515</td>\n",
       "      <td>Long Term</td>\n",
       "      <td>Townhouse</td>\n",
       "      <td>2095.0</td>\n",
       "      <td>2 Beds</td>\n",
       "      <td>2.5</td>\n",
       "      <td>1403</td>\n",
       "      <td>/ab/airdrie/rentals/townhouse/2-bedrooms/pet-f...</td>\n",
       "      <td>Unfurnished</td>\n",
       "      <td>November 18</td>\n",
       "      <td>Non-Smoking</td>\n",
       "      <td>True</td>\n",
       "      <td>True</td>\n",
       "    </tr>\n",
       "    <tr>\n",
       "      <th>4</th>\n",
       "      <td>468622</td>\n",
       "      <td>Airdrie</td>\n",
       "      <td>Alberta</td>\n",
       "      <td>69 Gateway Dr NE</td>\n",
       "      <td>51.305962</td>\n",
       "      <td>-114.012515</td>\n",
       "      <td>Long Term</td>\n",
       "      <td>Townhouse</td>\n",
       "      <td>2495.0</td>\n",
       "      <td>2 Beds</td>\n",
       "      <td>2.5</td>\n",
       "      <td>1403</td>\n",
       "      <td>/ab/airdrie/rentals/townhouse/2-bedrooms/pet-f...</td>\n",
       "      <td>Unfurnished</td>\n",
       "      <td>Immediate</td>\n",
       "      <td>Non-Smoking</td>\n",
       "      <td>True</td>\n",
       "      <td>True</td>\n",
       "    </tr>\n",
       "  </tbody>\n",
       "</table>\n",
       "</div>"
      ],
      "text/plain": [
       "   rentfaster_id     city province           address   latitude   longitude  \\\n",
       "0         468622  Airdrie  Alberta  69 Gateway Dr NE  51.305962 -114.012515   \n",
       "1         468622  Airdrie  Alberta  69 Gateway Dr NE  51.305962 -114.012515   \n",
       "2         468622  Airdrie  Alberta  69 Gateway Dr NE  51.305962 -114.012515   \n",
       "3         468622  Airdrie  Alberta  69 Gateway Dr NE  51.305962 -114.012515   \n",
       "4         468622  Airdrie  Alberta  69 Gateway Dr NE  51.305962 -114.012515   \n",
       "\n",
       "  lease_term       type   price    beds baths sq_feet  \\\n",
       "0  Long Term  Townhouse  2495.0  2 Beds   2.5    1403   \n",
       "1  Long Term  Townhouse  2695.0  3 Beds   2.5    1496   \n",
       "2  Long Term  Townhouse  2295.0  2 Beds   2.5    1180   \n",
       "3  Long Term  Townhouse  2095.0  2 Beds   2.5    1403   \n",
       "4  Long Term  Townhouse  2495.0  2 Beds   2.5    1403   \n",
       "\n",
       "                                                link   furnishing  \\\n",
       "0  /ab/airdrie/rentals/townhouse/2-bedrooms/pet-f...  Unfurnished   \n",
       "1  /ab/airdrie/rentals/townhouse/2-bedrooms/pet-f...  Unfurnished   \n",
       "2  /ab/airdrie/rentals/townhouse/2-bedrooms/pet-f...  Unfurnished   \n",
       "3  /ab/airdrie/rentals/townhouse/2-bedrooms/pet-f...  Unfurnished   \n",
       "4  /ab/airdrie/rentals/townhouse/2-bedrooms/pet-f...  Unfurnished   \n",
       "\n",
       "  availability_date      smoking  cats  dogs  \n",
       "0         Immediate  Non-Smoking  True  True  \n",
       "1         Immediate  Non-Smoking  True  True  \n",
       "2         Immediate  Non-Smoking  True  True  \n",
       "3       November 18  Non-Smoking  True  True  \n",
       "4         Immediate  Non-Smoking  True  True  "
      ]
     },
     "execution_count": 4,
     "metadata": {},
     "output_type": "execute_result"
    }
   ],
   "source": [
    "original_data.head()"
   ]
  },
  {
   "cell_type": "markdown",
   "id": "51cf73c0",
   "metadata": {
    "_cell_guid": "b6b71190-080f-451d-b8ee-5dde817fb9d8",
    "_uuid": "d8036715-14d0-47dd-a852-056a01efb1a2",
    "papermill": {
     "duration": 0.011041,
     "end_time": "2024-10-16T22:15:33.249635",
     "exception": false,
     "start_time": "2024-10-16T22:15:33.238594",
     "status": "completed"
    },
    "tags": []
   },
   "source": [
    "**1.3 Build a simple model for the set up**\n",
    "    \n",
    "    **This model is not use for the final use, it only using for find the best model**"
   ]
  },
  {
   "cell_type": "code",
   "execution_count": 5,
   "id": "69e77caf",
   "metadata": {
    "_cell_guid": "6006b236-c5aa-4046-a40e-e94584d9f4ca",
    "_uuid": "4fa7392d-3554-4691-ba81-c3e736760684",
    "collapsed": false,
    "execution": {
     "iopub.execute_input": "2024-10-16T22:15:33.273917Z",
     "iopub.status.busy": "2024-10-16T22:15:33.273251Z",
     "iopub.status.idle": "2024-10-16T22:15:33.325411Z",
     "shell.execute_reply": "2024-10-16T22:15:33.324434Z"
    },
    "jupyter": {
     "outputs_hidden": false
    },
    "papermill": {
     "duration": 0.066818,
     "end_time": "2024-10-16T22:15:33.327650",
     "exception": false,
     "start_time": "2024-10-16T22:15:33.260832",
     "status": "completed"
    },
    "tags": []
   },
   "outputs": [
    {
     "name": "stdout",
     "output_type": "stream",
     "text": [
      "Index(['rentfaster_id', 'city', 'province', 'address', 'latitude', 'longitude',\n",
      "       'lease_term', 'type', 'price', 'beds', 'baths', 'sq_feet', 'link',\n",
      "       'furnishing', 'availability_date', 'smoking', 'cats', 'dogs'],\n",
      "      dtype='object')\n"
     ]
    }
   ],
   "source": [
    "# drop the row that missing the target value, price\n",
    "# Drop rows with missing values in the 'price' column\n",
    "print(original_data.columns)\n",
    "\n",
    "\n",
    "def split_data():\n",
    "    original_data.dropna(axis=0, subset=['price'], inplace=True)\n",
    "\n",
    "    # Separate the target variable\n",
    "    y = original_data.price\n",
    "\n",
    "    # Separate the features\n",
    "    X = original_data.drop(['price'], axis=1)\n",
    "\n",
    "    # split the dataset\n",
    "    X_train_val, X_test, y_train_val, y_test = train_test_split(X, y, test_size=0.2, random_state=42)\n",
    "\n",
    "    # Further split the train+validation set into separate train and validation sets (e.g., 75% train, 25% validation)\n",
    "    X_train, X_val, y_train, y_val = train_test_split(X_train_val, y_train_val, test_size=0.25, random_state=42)\n",
    "\n",
    "    return X_train, X_val, X_test, y_train, y_val, y_test\n",
    "\n",
    "X_train, X_val, X_test, y_train, y_val, y_test = split_data()\n"
   ]
  },
  {
   "cell_type": "code",
   "execution_count": 6,
   "id": "64b4ee61",
   "metadata": {
    "_cell_guid": "7dde0b9e-dd3d-4c6e-9683-4e9be95b2363",
    "_uuid": "0971ab26-bb69-4eca-8381-ffa6e170aa52",
    "collapsed": false,
    "execution": {
     "iopub.execute_input": "2024-10-16T22:15:33.352247Z",
     "iopub.status.busy": "2024-10-16T22:15:33.351531Z",
     "iopub.status.idle": "2024-10-16T22:15:33.356627Z",
     "shell.execute_reply": "2024-10-16T22:15:33.355718Z"
    },
    "jupyter": {
     "outputs_hidden": false
    },
    "papermill": {
     "duration": 0.019707,
     "end_time": "2024-10-16T22:15:33.358699",
     "exception": false,
     "start_time": "2024-10-16T22:15:33.338992",
     "status": "completed"
    },
    "tags": []
   },
   "outputs": [],
   "source": [
    "# function just for test the dataset score\n",
    "def score_dataset(X_train, X_valid, y_train, y_valid,model_class=RandomForestRegressor):\n",
    "    model = model_class()\n",
    "    model.fit(X_train, y_train)\n",
    "    preds = model.predict(X_valid)\n",
    "    return mean_absolute_error(y_valid, preds)"
   ]
  },
  {
   "cell_type": "markdown",
   "id": "24aa1688",
   "metadata": {
    "_cell_guid": "d0fbfc82-498b-4ef3-bfdb-918707ef6f2b",
    "_uuid": "73473a37-4b56-4d83-b9c3-fa680f7b3eb6",
    "papermill": {
     "duration": 0.010924,
     "end_time": "2024-10-16T22:15:33.381111",
     "exception": false,
     "start_time": "2024-10-16T22:15:33.370187",
     "status": "completed"
    },
    "tags": []
   },
   "source": [
    "# 2. Handle the Categorical Variables\n",
    "1. Drop Categorical Variables\n",
    "2. Ordinal Encoding\n",
    "3. One-Hot Encoding"
   ]
  },
  {
   "cell_type": "markdown",
   "id": "35650be7",
   "metadata": {
    "papermill": {
     "duration": 0.010924,
     "end_time": "2024-10-16T22:15:33.403360",
     "exception": false,
     "start_time": "2024-10-16T22:15:33.392436",
     "status": "completed"
    },
    "tags": []
   },
   "source": [
    "**2.1 Determine the number of categorical variables present and consider the impact of removing them entirely.**"
   ]
  },
  {
   "cell_type": "code",
   "execution_count": 7,
   "id": "f7374b4f",
   "metadata": {
    "_cell_guid": "057e7ed1-2ae8-4a8b-8cf0-60844b39c023",
    "_uuid": "0e1775a8-ca5c-4981-a82c-6e2d1b07f9ef",
    "execution": {
     "iopub.execute_input": "2024-10-16T22:15:33.427407Z",
     "iopub.status.busy": "2024-10-16T22:15:33.427004Z",
     "iopub.status.idle": "2024-10-16T22:15:38.116280Z",
     "shell.execute_reply": "2024-10-16T22:15:38.115315Z"
    },
    "papermill": {
     "duration": 4.703889,
     "end_time": "2024-10-16T22:15:38.118434",
     "exception": false,
     "start_time": "2024-10-16T22:15:33.414545",
     "status": "completed"
    },
    "tags": []
   },
   "outputs": [
    {
     "name": "stdout",
     "output_type": "stream",
     "text": [
      "Categorical variables, the True means Categorical, else otherwise:\n",
      "\n",
      "rentfaster_id        False\n",
      "city                  True\n",
      "province              True\n",
      "address               True\n",
      "latitude             False\n",
      "longitude            False\n",
      "lease_term            True\n",
      "type                  True\n",
      "beds                  True\n",
      "baths                 True\n",
      "sq_feet               True\n",
      "link                  True\n",
      "furnishing            True\n",
      "availability_date     True\n",
      "smoking               True\n",
      "cats                  True\n",
      "dogs                  True\n",
      "dtype: bool\n",
      "\n",
      "The percentage of the Categorical variables over All variables: 0.78\n",
      "\n",
      "\n",
      "MAE from Approach 1 (Drop categorical variables):\n",
      "399.5178246668488\n"
     ]
    }
   ],
   "source": [
    "# get columns with categorical variable\n",
    "s = (X_train.dtypes == 'object')\n",
    "print(f\"Categorical variables, the True means Categorical, else otherwise:\\n\\n{s}\\n\")\n",
    "object_cols = list(s[s].index)\n",
    "\n",
    "print(f\"The percentage of the Categorical variables over All variables: {round((len(object_cols) / len(original_data.columns)), 2)}\\n\\n\")\n",
    "\n",
    "# approach 1 drop categorical variablesb  \n",
    "drop_X_train = X_train.select_dtypes(exclude=['object'])\n",
    "drop_X_valid = X_val.select_dtypes(exclude=['object'])\n",
    "\n",
    "print(\"MAE from Approach 1 (Drop categorical variables):\")\n",
    "print(score_dataset(drop_X_train, drop_X_valid, y_train, y_val))"
   ]
  },
  {
   "cell_type": "markdown",
   "id": "819aa8bc",
   "metadata": {
    "_cell_guid": "616b970f-e472-4b25-a16a-139237ca5183",
    "_uuid": "5e260377-e32d-4d18-9316-582bc63bf74d",
    "papermill": {
     "duration": 0.01105,
     "end_time": "2024-10-16T22:15:38.140716",
     "exception": false,
     "start_time": "2024-10-16T22:15:38.129666",
     "status": "completed"
    },
    "tags": []
   },
   "source": [
    "> Approximately 78% of the features are categorical variables, meaning that if we ignore all of them, only about 22% of the data would remain, rendering the training process meaningless. Therefore, we cannot simply drop all categorical variables. However, in future analysis, we may consider removing some less meaningful categorical columns to streamline the dataset."
   ]
  },
  {
   "cell_type": "markdown",
   "id": "38fceb9a",
   "metadata": {
    "papermill": {
     "duration": 0.010885,
     "end_time": "2024-10-16T22:15:38.163047",
     "exception": false,
     "start_time": "2024-10-16T22:15:38.152162",
     "status": "completed"
    },
    "tags": []
   },
   "source": [
    "**2.2 Find out the count of unique elements for each categorical column**"
   ]
  },
  {
   "cell_type": "code",
   "execution_count": 8,
   "id": "85e225b7",
   "metadata": {
    "_cell_guid": "194123cc-8e41-4b5e-bf77-e6197bbc8877",
    "_uuid": "9d35f351-6218-44ff-9956-09ddf093d088",
    "collapsed": false,
    "execution": {
     "iopub.execute_input": "2024-10-16T22:15:38.187819Z",
     "iopub.status.busy": "2024-10-16T22:15:38.186974Z",
     "iopub.status.idle": "2024-10-16T22:15:38.214156Z",
     "shell.execute_reply": "2024-10-16T22:15:38.213075Z"
    },
    "jupyter": {
     "outputs_hidden": false
    },
    "papermill": {
     "duration": 0.041894,
     "end_time": "2024-10-16T22:15:38.216355",
     "exception": false,
     "start_time": "2024-10-16T22:15:38.174461",
     "status": "completed"
    },
    "tags": []
   },
   "outputs": [
    {
     "name": "stdout",
     "output_type": "stream",
     "text": [
      "The unique element in each columns is: \n",
      " {'city': 269, 'province': 10, 'address': 8002, 'lease_term': 6, 'type': 15, 'beds': 11, 'baths': 17, 'sq_feet': 1896, 'link': 9615, 'furnishing': 4, 'availability_date': 132, 'smoking': 4, 'cats': 2, 'dogs': 2}\n"
     ]
    }
   ],
   "source": [
    "def get_unique_elements_per_column(original_data, object_cols):\n",
    "    \"\"\"\n",
    "    Returns a dictionary with the count of unique elements for each categorical column.\n",
    "\n",
    "    Parameters:\n",
    "    - original_data: DataFrame containing the data.\n",
    "    - object_cols: List of column names that are categorical.\n",
    "\n",
    "    Returns:\n",
    "    - A dictionary where keys are column names and values are the number of unique elements in each column.\n",
    "    \"\"\"\n",
    "\n",
    "    # get the details of the unique element in each columns\n",
    "    unique_number_of_categorical_list = list(map(lambda col: original_data[col].nunique(), object_cols))\n",
    "\n",
    "    # present by dictionary\n",
    "    unique_number_of_categorical_dict = dict(zip(object_cols,unique_number_of_categorical_list))\n",
    "    return unique_number_of_categorical_dict\n",
    "    \n",
    "print(f\"The unique element in each columns is: \\n {get_unique_elements_per_column(original_data, object_cols)}\")"
   ]
  },
  {
   "cell_type": "markdown",
   "id": "d2cb60ef",
   "metadata": {
    "_cell_guid": "e9b269f8-336d-456a-8b55-b220ac6ef861",
    "_uuid": "542e263a-1b24-4ab9-9e78-502ef4e62423",
    "papermill": {
     "duration": 0.011164,
     "end_time": "2024-10-16T22:15:38.238906",
     "exception": false,
     "start_time": "2024-10-16T22:15:38.227742",
     "status": "completed"
    },
    "tags": []
   },
   "source": [
    "> 1. The addresses vary widely, so consider removing the entire column or just the street numbers.\n",
    "> 2. The link field is unnecessary, as it only provides information about one location.\n",
    "> 3. Simplify availability_date to two categories, as specific dates aren't needed.\n",
    "> 4. Certain data should be numeric rather than categorical. For example, fields like beds, baths, and square feet need to be converted to numeric values.\n",
    "> 5. smoking column to binary format, where 0 represents \"no smoking allowed\" and 1 represents \"smoking allowed\".\n",
    "> 6. cats/dogs column to binary format, where 0 represents \"not allowed\" and 1 represents \"allowed\".\n",
    "> 7. furnishing column to binary format, where 0 represents \"not provide\" and 1 represents \"provide\".\n",
    "> 8. Convert city, province, lease_team and type to numeric format by assigning a unique number to each category type.\n"
   ]
  },
  {
   "cell_type": "markdown",
   "id": "bb7dd886",
   "metadata": {
    "papermill": {
     "duration": 0.01112,
     "end_time": "2024-10-16T22:15:38.261498",
     "exception": false,
     "start_time": "2024-10-16T22:15:38.250378",
     "status": "completed"
    },
    "tags": []
   },
   "source": [
    "> > For now, I just use Ordinal Encoding for all the categoric features, in order avoiding the overfitting; But, we dont know if One-Hot Encoding can give us a better model or not, it may need another try later on"
   ]
  },
  {
   "cell_type": "markdown",
   "id": "432a4552",
   "metadata": {
    "papermill": {
     "duration": 0.011013,
     "end_time": "2024-10-16T22:15:38.283742",
     "exception": false,
     "start_time": "2024-10-16T22:15:38.272729",
     "status": "completed"
    },
    "tags": []
   },
   "source": [
    "**2.3.1 Remove the address number**"
   ]
  },
  {
   "cell_type": "code",
   "execution_count": 9,
   "id": "0ae38135",
   "metadata": {
    "_cell_guid": "912df587-78e5-4374-aecc-657a853d1c6b",
    "_uuid": "b0eae712-7809-4f5a-8fe6-c585d3140d9d",
    "collapsed": false,
    "execution": {
     "iopub.execute_input": "2024-10-16T22:15:38.308497Z",
     "iopub.status.busy": "2024-10-16T22:15:38.307772Z",
     "iopub.status.idle": "2024-10-16T22:15:38.370827Z",
     "shell.execute_reply": "2024-10-16T22:15:38.369739Z"
    },
    "jupyter": {
     "outputs_hidden": false
    },
    "papermill": {
     "duration": 0.077613,
     "end_time": "2024-10-16T22:15:38.372978",
     "exception": false,
     "start_time": "2024-10-16T22:15:38.295365",
     "status": "completed"
    },
    "tags": []
   },
   "outputs": [
    {
     "name": "stdout",
     "output_type": "stream",
     "text": [
      "Before remove the address number:\n",
      "\n",
      "0    69 Gateway Dr NE\n",
      "1    69 Gateway Dr NE\n",
      "2    69 Gateway Dr NE\n",
      "3    69 Gateway Dr NE\n",
      "4    69 Gateway Dr NE\n",
      "Name: address, dtype: object\n",
      "number of unique: 8002\n",
      "\n",
      "\n",
      "After remove the address number:\n",
      "\n",
      "0    69 Gateway Dr NE\n",
      "1    69 Gateway Dr NE\n",
      "2    69 Gateway Dr NE\n",
      "3    69 Gateway Dr NE\n",
      "4    69 Gateway Dr NE\n",
      "Name: address, dtype: object\n",
      "number of unique: 8002\n",
      "\n",
      "\n"
     ]
    }
   ],
   "source": [
    "original_copy = original_data.copy()\n",
    "\n",
    "# 1.show the address number\n",
    "print(f\"Before remove the address number:\\n\\n{original_copy.address.head()}\\nnumber of unique: {original_copy.address.nunique()}\\n\\n\")\n",
    "\n",
    "# Remove the address number using regular expression\n",
    "original_data[\"address\"] = list(map(lambda x: re.sub(r'^\\d+\\s+', '', str(x)), original_copy.address))\n",
    "print(f\"After remove the address number:\\n\\n{original_copy.address.head()}\\nnumber of unique: {original_copy.address.nunique()}\\n\\n\")\n"
   ]
  },
  {
   "cell_type": "markdown",
   "id": "d087ee30",
   "metadata": {
    "papermill": {
     "duration": 0.011414,
     "end_time": "2024-10-16T22:15:38.396216",
     "exception": false,
     "start_time": "2024-10-16T22:15:38.384802",
     "status": "completed"
    },
    "tags": []
   },
   "source": [
    "> > ummm, still too many, we might need another way to deal with it, or just simply delete it"
   ]
  },
  {
   "cell_type": "markdown",
   "id": "c0248e37",
   "metadata": {
    "papermill": {
     "duration": 0.011213,
     "end_time": "2024-10-16T22:15:38.419028",
     "exception": false,
     "start_time": "2024-10-16T22:15:38.407815",
     "status": "completed"
    },
    "tags": []
   },
   "source": [
    "**2.3.2 remove link column**"
   ]
  },
  {
   "cell_type": "code",
   "execution_count": 10,
   "id": "3f54d9b9",
   "metadata": {
    "execution": {
     "iopub.execute_input": "2024-10-16T22:15:38.443453Z",
     "iopub.status.busy": "2024-10-16T22:15:38.443059Z",
     "iopub.status.idle": "2024-10-16T22:15:38.454472Z",
     "shell.execute_reply": "2024-10-16T22:15:38.453474Z"
    },
    "papermill": {
     "duration": 0.026378,
     "end_time": "2024-10-16T22:15:38.456795",
     "exception": false,
     "start_time": "2024-10-16T22:15:38.430417",
     "status": "completed"
    },
    "tags": []
   },
   "outputs": [
    {
     "name": "stdout",
     "output_type": "stream",
     "text": [
      "Index(['rentfaster_id', 'city', 'province', 'address', 'latitude', 'longitude',\n",
      "       'lease_term', 'type', 'price', 'beds', 'baths', 'sq_feet', 'furnishing',\n",
      "       'availability_date', 'smoking', 'cats', 'dogs'],\n",
      "      dtype='object')\n"
     ]
    }
   ],
   "source": [
    "original_data = original_data.drop(columns=[\"link\"])\n",
    "\n",
    "print(original_data.columns)"
   ]
  },
  {
   "cell_type": "markdown",
   "id": "813c914c",
   "metadata": {
    "papermill": {
     "duration": 0.011707,
     "end_time": "2024-10-16T22:15:38.480552",
     "exception": false,
     "start_time": "2024-10-16T22:15:38.468845",
     "status": "completed"
    },
    "tags": []
   },
   "source": [
    "**2.3.3 Convert the \"availability_date\" category to a numerical format.**"
   ]
  },
  {
   "cell_type": "code",
   "execution_count": 11,
   "id": "efbe20a8",
   "metadata": {
    "execution": {
     "iopub.execute_input": "2024-10-16T22:15:38.505897Z",
     "iopub.status.busy": "2024-10-16T22:15:38.505523Z",
     "iopub.status.idle": "2024-10-16T22:15:38.646029Z",
     "shell.execute_reply": "2024-10-16T22:15:38.645111Z"
    },
    "papermill": {
     "duration": 0.155526,
     "end_time": "2024-10-16T22:15:38.648202",
     "exception": false,
     "start_time": "2024-10-16T22:15:38.492676",
     "status": "completed"
    },
    "tags": []
   },
   "outputs": [
    {
     "name": "stdout",
     "output_type": "stream",
     "text": [
      "0      1.0\n",
      "1      1.0\n",
      "2      1.0\n",
      "3    170.0\n",
      "4      1.0\n",
      "Name: availability_date, dtype: float64\n",
      "count    25211.000000\n",
      "mean        18.475824\n",
      "std         29.304869\n",
      "min          0.000000\n",
      "25%          1.000000\n",
      "50%          1.000000\n",
      "75%         30.000000\n",
      "max        213.000000\n",
      "Name: availability_date, dtype: float64\n"
     ]
    }
   ],
   "source": [
    "def convert_availability_date(date_str):\n",
    "    '''\n",
    "    Convert categorical columns to numeric:\n",
    "        Assign 1 for 'immediate'\n",
    "        Assign 0 for 'no vacancy'\n",
    "        Assign NaN for 'call for availability'\n",
    "        Calculate the difference between the available date and the current date for other values\n",
    "        Return NaN for missing values\n",
    "        \n",
    "    The missing value will handle in the later session\n",
    "    '''\n",
    "    if pd.isna(date_str):\n",
    "        return np.nan\n",
    "    \n",
    "    date_str = str(date_str).lower().strip()\n",
    "    if date_str == 'immediate':\n",
    "        return 1\n",
    "    elif date_str == 'no vacancy':\n",
    "        return 0\n",
    "    elif date_str == 'call for availability':\n",
    "        return np.nan\n",
    "    \n",
    "    try:\n",
    "        # Try to parse the date\n",
    "        date = datetime.strptime(date_str, '%B %d')\n",
    "        target_date = datetime(2024, 6, 1)  # June 1, 2024\n",
    "        date = date.replace(year=datetime.now().year)\n",
    "        \n",
    "        # Calculate the number of days between the date and July 1\n",
    "        days_difference = (date - target_date).days\n",
    "        if days_difference < 1:\n",
    "            return 1\n",
    "        else:\n",
    "            return days_difference\n",
    "    except ValueError:\n",
    "        # If parsing fails, return NaN\n",
    "        return np.nan\n",
    "\n",
    "# Apply the conversion\n",
    "original_data['availability_date'] = original_data['availability_date'].apply(convert_availability_date)\n",
    "\n",
    "# Calculate the mean of all numbers (excluding NaN)\n",
    "mean_availability = original_data['availability_date'].mean()\n",
    "\n",
    "# # Fill NaN values with the mean\n",
    "# original_data['availability_date'].fillna(mean_availability, inplace=True)\n",
    "\n",
    "# Display the first few rows to verify the changes\n",
    "print(original_data['availability_date'].head())\n",
    "\n",
    "# Display some statistics about the column\n",
    "print(original_data['availability_date'].describe())"
   ]
  },
  {
   "cell_type": "markdown",
   "id": "75411828",
   "metadata": {
    "papermill": {
     "duration": 0.011452,
     "end_time": "2024-10-16T22:15:38.671375",
     "exception": false,
     "start_time": "2024-10-16T22:15:38.659923",
     "status": "completed"
    },
    "tags": []
   },
   "source": [
    "**2.3.4 Convert and Handel the numeric variables**"
   ]
  },
  {
   "cell_type": "code",
   "execution_count": 12,
   "id": "7075f25b",
   "metadata": {
    "execution": {
     "iopub.execute_input": "2024-10-16T22:15:38.696927Z",
     "iopub.status.busy": "2024-10-16T22:15:38.696082Z",
     "iopub.status.idle": "2024-10-16T22:15:38.706085Z",
     "shell.execute_reply": "2024-10-16T22:15:38.705113Z"
    },
    "papermill": {
     "duration": 0.025282,
     "end_time": "2024-10-16T22:15:38.708338",
     "exception": false,
     "start_time": "2024-10-16T22:15:38.683056",
     "status": "completed"
    },
    "tags": []
   },
   "outputs": [
    {
     "name": "stdout",
     "output_type": "stream",
     "text": [
      "baths: ['2.5' '1' '2' '1.5' '3.5' nan '4' '3' '5' 'none' '4.5' '7.5' '5.5' '6'\n",
      " '6.5' '7' '8' '0'],\n",
      "baths has 18 uniques\n",
      "\n",
      "beds: ['2 Beds' '3 Beds' 'Studio' '1 Bed' '5 Beds' '4 Beds' nan '6 Beds'\n",
      " 'none Beds' '8 Beds' '7 Beds' '9 Beds'],\n",
      "beds has 12 uniques\n",
      "\n",
      "sq_feet: ['1403' '1496' '1180' ... '260' '286' '334'],\n",
      "sq_feet has 1897 uniques\n",
      "\n"
     ]
    }
   ],
   "source": [
    "def get_unique_values(original_data, features):\n",
    "    \"\"\"\n",
    "    Returns unique values for specified features in a DataFrame.\n",
    "\n",
    "    Parameters:\n",
    "    original_data: The DataFrame containing the data.\n",
    "    features (list): A list of column names to find unique values for.\n",
    "\n",
    "    Returns:\n",
    "    dict: A dictionary with column names as keys and arrays of unique values as values.\n",
    "    \"\"\"\n",
    "    \n",
    "    unique_values = {}\n",
    "    \n",
    "    # get a 2d array, contains 3 features' unique value\n",
    "    list_of_features_unique_value = list(map(lambda feature: original_data[feature].unique(), features))\n",
    "    \n",
    "    unique_values = dict(zip(features, list_of_features_unique_value))\n",
    "\n",
    "    return unique_values\n",
    "\n",
    "# Find out the unique_values for each features\n",
    "unique_values = get_unique_values(original_data, ['baths', 'beds', 'sq_feet'])\n",
    "for unique in unique_values:\n",
    "    print(f\"{unique}: {unique_values[unique]},\\n{unique} has {len(unique_values[unique])} uniques\\n\")\n",
    "\n",
    "# original_copy.baths = list(map(lambda x: float(x) if x != \"none\" else 0, original_copy.baths))\n",
    "\n",
    "# original_copy['baths'] = pd.to_numeric(original_copy['baths'], errors='coerce')\n",
    "# print(original_copy.baths)\n"
   ]
  },
  {
   "cell_type": "markdown",
   "id": "dfb06866",
   "metadata": {
    "papermill": {
     "duration": 0.01155,
     "end_time": "2024-10-16T22:15:38.731709",
     "exception": false,
     "start_time": "2024-10-16T22:15:38.720159",
     "status": "completed"
    },
    "tags": []
   },
   "source": [
    "> Beds and baths are straightforward, and any NaN or None values should be converted to 0. However, since square feet has 1,897 unique entries and many contain strings, we need to handle it more carefully"
   ]
  },
  {
   "cell_type": "markdown",
   "id": "32fb476c",
   "metadata": {
    "papermill": {
     "duration": 0.011467,
     "end_time": "2024-10-16T22:15:38.754796",
     "exception": false,
     "start_time": "2024-10-16T22:15:38.743329",
     "status": "completed"
    },
    "tags": []
   },
   "source": [
    "***Data Cleaning and Conversion of 'Baths' Column***"
   ]
  },
  {
   "cell_type": "code",
   "execution_count": 13,
   "id": "6b69a98a",
   "metadata": {
    "execution": {
     "iopub.execute_input": "2024-10-16T22:15:38.780431Z",
     "iopub.status.busy": "2024-10-16T22:15:38.779543Z",
     "iopub.status.idle": "2024-10-16T22:15:38.812102Z",
     "shell.execute_reply": "2024-10-16T22:15:38.811022Z"
    },
    "papermill": {
     "duration": 0.047542,
     "end_time": "2024-10-16T22:15:38.814150",
     "exception": false,
     "start_time": "2024-10-16T22:15:38.766608",
     "status": "completed"
    },
    "tags": []
   },
   "outputs": [
    {
     "name": "stdout",
     "output_type": "stream",
     "text": [
      "The number of missing before handle: 134\n",
      "The number of missing after handle: 0\n",
      "\n",
      "Bath data after cleaning:\n",
      "0        2.5\n",
      "1        2.5\n",
      "2        2.5\n",
      "3        2.5\n",
      "4        2.5\n",
      "        ... \n",
      "25766    1.0\n",
      "25767    1.0\n",
      "25768    1.0\n",
      "25769    1.0\n",
      "25770    1.0\n",
      "Name: baths, Length: 25771, dtype: float64\n",
      "\n",
      "Baths converted successfully with 0 missing values\n"
     ]
    }
   ],
   "source": [
    "# baths: ['2.5' '1' '2' '1.5' '3.5' nan '4' '3' '5' 'none' '4.5' '7.5' '5.5' '6'\n",
    " #'6.5' '7' '8' '0'],\n",
    "    \n",
    "def clean_column(column_name,  cleaning_function):\n",
    "    \"\"\"\n",
    "    Cleans the specified column in the DataFrame by converting non-numeric values\n",
    "    to floats and handle the nan or string entries\n",
    "\n",
    "    Parameters:\n",
    "    - dataframe: The pandas DataFrame containing the data.\n",
    "    - column_name: The name of the column to clean.\n",
    "    - cleaning_function: A function that defines how to clean each value.\n",
    "\n",
    "    The function prints the number of missing values before and after processing,\n",
    "    displays the cleaned data, and confirms whether the conversion was successful.\n",
    "    \"\"\"\n",
    "    \n",
    "    before_num_of_missing = original_data[column_name].isnull().sum()\n",
    "    # cleaning process is going on here!\n",
    "    cleaning_function(column_name) \n",
    "    \n",
    "    after_num_of_missing = original_data[column_name].isnull().sum()\n",
    "\n",
    "    # '''Print the number of missing values before and after the conversion'''\n",
    "    print(f\"The number of missing before handle: {before_num_of_missing}\")\n",
    "    print(f\"The number of missing after handle: {after_num_of_missing}\\n\")\n",
    "    print(f\"Bath data after cleaning:\\n{original_data[column_name]}\\n\")\n",
    "\n",
    "    # Check if conversion was successful (no missing values and correct dtype)\n",
    "    if original_data[column_name].dtype != 'object' and after_num_of_missing == 0:\n",
    "        print(\"Baths converted successfully with 0 missing values\")\n",
    "    else:\n",
    "        print(\"Baths conversion failed\")\n",
    "\n",
    "        \n",
    "# Convert values: replace \"none\" and NaN with 0, convert others to float        \n",
    "def baths_cleaning(column_name):\n",
    "    original_data[column_name] = original_data[column_name].map(\n",
    "        lambda x: float(x) if x != \"none\" and not pd.isna(x) else 0\n",
    "    )\n",
    "\n",
    "clean_column('baths', baths_cleaning)"
   ]
  },
  {
   "cell_type": "markdown",
   "id": "462fba4e",
   "metadata": {
    "papermill": {
     "duration": 0.011747,
     "end_time": "2024-10-16T22:15:38.837941",
     "exception": false,
     "start_time": "2024-10-16T22:15:38.826194",
     "status": "completed"
    },
    "tags": []
   },
   "source": [
    "***Data Cleaning and Conversion of 'Beds' Column***"
   ]
  },
  {
   "cell_type": "code",
   "execution_count": 14,
   "id": "c084ea6b",
   "metadata": {
    "execution": {
     "iopub.execute_input": "2024-10-16T22:15:38.863693Z",
     "iopub.status.busy": "2024-10-16T22:15:38.862807Z",
     "iopub.status.idle": "2024-10-16T22:15:38.906927Z",
     "shell.execute_reply": "2024-10-16T22:15:38.905717Z"
    },
    "papermill": {
     "duration": 0.059314,
     "end_time": "2024-10-16T22:15:38.909113",
     "exception": false,
     "start_time": "2024-10-16T22:15:38.849799",
     "status": "completed"
    },
    "tags": []
   },
   "outputs": [
    {
     "name": "stdout",
     "output_type": "stream",
     "text": [
      "The number of missing before handle: 132\n",
      "The number of missing after handle: 0\n",
      "\n",
      "Bath data after cleaning:\n",
      "0        2\n",
      "1        3\n",
      "2        2\n",
      "3        2\n",
      "4        2\n",
      "        ..\n",
      "25766    0\n",
      "25767    3\n",
      "25768    1\n",
      "25769    0\n",
      "25770    2\n",
      "Name: beds, Length: 25771, dtype: int64\n",
      "\n",
      "Baths converted successfully with 0 missing values\n"
     ]
    }
   ],
   "source": [
    "# beds: ['2 Beds' '3 Beds' 'Studio' '1 Bed' '5 Beds' '4 Beds' nan '6 Beds'\n",
    " #'none Beds' '8 Beds' '7 Beds' '9 Beds'],\n",
    "\n",
    "\n",
    "## Cleans and converts the beds column to integers.\n",
    "def beds_cleaning(column_name):\n",
    "    \"\"\"\n",
    "    This function cleans and converts the 'beds' column to integers.\n",
    "    It handles various formats including:\n",
    "    - '2 Beds', '3 Beds', etc.: Converted to their respective integer values\n",
    "    - 'Studio': Converted to 0\n",
    "    - 'none Beds': Converted to 0\n",
    "    - NaN values: Converted to 0\n",
    "    \n",
    "    The function uses a helper function 'get_num_of_bed' to extract the numeric value\n",
    "    from strings like '2 Beds' or '1 Bed'.\n",
    "    \"\"\"\n",
    "    # Covert string value to integer\n",
    "    def get_num_of_bad(value):\n",
    "        value = value.replace(\"Beds\", \"\").replace(\"Bed\", \"\").strip()\n",
    "        return int(value)\n",
    "    \n",
    "    original_data[column_name] = original_data[column_name].map(\n",
    "        # Replaces 'none Beds' and 'Studio' with 0.\n",
    "        lambda x: get_num_of_bad(x) if x != \"none Beds\"and x != \"Studio\" and not pd.isna(x) else 0 \n",
    "    )\n",
    "    \n",
    "clean_column('beds', beds_cleaning)"
   ]
  },
  {
   "cell_type": "markdown",
   "id": "6f3ab564",
   "metadata": {
    "papermill": {
     "duration": 0.0117,
     "end_time": "2024-10-16T22:15:38.932816",
     "exception": false,
     "start_time": "2024-10-16T22:15:38.921116",
     "status": "completed"
    },
    "tags": []
   },
   "source": [
    "***Data Cleaning and Conversion of 'sq_feet' Column***"
   ]
  },
  {
   "cell_type": "code",
   "execution_count": 15,
   "id": "3d73081f",
   "metadata": {
    "execution": {
     "iopub.execute_input": "2024-10-16T22:15:38.958839Z",
     "iopub.status.busy": "2024-10-16T22:15:38.958114Z",
     "iopub.status.idle": "2024-10-16T22:15:39.069486Z",
     "shell.execute_reply": "2024-10-16T22:15:39.068479Z"
    },
    "papermill": {
     "duration": 0.127122,
     "end_time": "2024-10-16T22:15:39.071790",
     "exception": false,
     "start_time": "2024-10-16T22:15:38.944668",
     "status": "completed"
    },
    "tags": []
   },
   "outputs": [
    {
     "name": "stdout",
     "output_type": "stream",
     "text": [
      "The 'sq_feet' column in original_data has been updated with the cleaned data.\n",
      "Status of the sq_feet series:\n",
      "Maximum value: 20400.0 at index 3647\n",
      "Minimum value: 0.0\n",
      "Number of entries: 25771\n",
      "Number of missing value:  4117\n",
      "Data type: float64\n"
     ]
    }
   ],
   "source": [
    "def clean_sq_feet(value):\n",
    "    \"\"\"\n",
    "    Cleans and converts the 'sq_feet' column to numeric values.\n",
    "\n",
    "    This function handles various formats and special cases:\n",
    "    1. Removes parentheses and their contents.\n",
    "    2. Handles addition ('+') and multiplication ('*') operations:\n",
    "       - For large numbers with addition (e.g., 1500900+600), it takes the first 4 or 5 digits.\n",
    "       - Evaluates expressions like '2,150 + 950' or '10 * 12'.\n",
    "    3. Handles ranges with hyphens ('-'):\n",
    "       - Calculates the average of the range (e.g., '500-600' becomes 550).\n",
    "       - For multiple hyphens, uses only the first and last number.\n",
    "    4. Handles comma-separated values:\n",
    "       - For multiple comma-separated values, sums them up.\n",
    "       - For single comma as thousand separator, removes it.\n",
    "    5. Removes non-numeric characters except '+', '-', '*', '.', and '×'.\n",
    "    6. Replaces '×' with '*' for multiplication.\n",
    "    7. Strips leading/trailing '+', '-', '*', and '.' characters.\n",
    "\n",
    "    Special cases:\n",
    "    - Handles professionally developed basements (e.g., '2,150 + 950 SF').\n",
    "    - Manages multiple area descriptions (e.g., '1300 sft Basement, 350 sft Master bedroom').\n",
    "\n",
    "    Returns:\n",
    "    float: The cleaned and converted square footage value.\n",
    "    \"\"\"\n",
    "    # Function implementation follows...\n",
    "\n",
    "    # Remove parentheses and their contents\n",
    "    value = re.sub(r'\\([^)]*\\)', '', value)\n",
    "\n",
    "    # Remove any non-numeric characters except '+' and '-' and \"*\" and \".\" and \"×\"\n",
    "    value = re.sub(r'[^\\d+\\-*.,×]', '', value)\n",
    "\n",
    "    # replace specical mulitiplation sign\n",
    "    value = value.replace(\"×\", '*')\n",
    "    \n",
    "    # Handle cases with '+' or '-' at the beginning or end\n",
    "    value = value.strip('+-*.')\n",
    "    \n",
    "    # If there's a '+', '*' evaluate the expression\n",
    "    if '+' in value or '*' in value:\n",
    "        # Handle large numbers with addition\n",
    "        # eg, 1500900+600 happened in index series[13651], it means 1500 = 900 + 600\n",
    "        if '+' in value:\n",
    "            # remove , in the addition case,\n",
    "            # eg, 2,150 + 950 SF (professionally developed basement)\n",
    "            value = value.replace(\",\", \"\")\n",
    "            parts = value.split('+')\n",
    "            if len(parts[0]) > 4:  # If the first part is a large number (more than 4 digits)\n",
    "                if len(parts[1]) == 4 and len(parts[0]) == 9:\n",
    "                    return float(parts[0][:5])  # Return the first 5 digits of the large number\n",
    "                elif len(parts[1]) == 5:\n",
    "                    return float(parts[0][:5])  # Return the first 5 digits of the large number\n",
    "                else:\n",
    "                    return float(parts[0][:4])  # Return the first 4 digits of the large number\n",
    "        # rest are '+' and '*'\n",
    "        return float(eval(value))\n",
    "    \n",
    "    # if there's a '-', find the avergae\n",
    "    elif '-' in value:\n",
    "        # If there's more than one '-', keep only the first and last number\n",
    "        if value.count('-') > 1:\n",
    "            numbers = value.split('-')\n",
    "            value = f\"{numbers[0]}-{numbers[-1]}\"\n",
    "        return sum(map(float, value.split('-'))) / 2\n",
    "    \n",
    "    elif ',' in value:\n",
    "        # Handle cases with commas\n",
    "        if value.count(',') > 1:\n",
    "            # Example: \"1300 sft Basement, 350 sft Master bedroom, 800 sft Living and Dinning Room\"\n",
    "            # Replace commas with plus signs and strip any leading/trailing plus signs or commas\n",
    "            value = value.replace(\",\", \"+\").strip(\"+,\")\n",
    "            # Return the total area as a float\n",
    "            return float(eval(value))\n",
    "        else:\n",
    "            # 800 sqft for Condo, 150 sqft for balcony\n",
    "            # 800, 150\n",
    "            if len(value.split(',')[0]) > 2:\n",
    "                value = value.replace(\",\", \"+\").strip(\"+,\")\n",
    "                return float(eval(value))\n",
    "            \n",
    "            # If there's only one comma, it's likely a thousands separator\n",
    "            # Remove the comma and convert to float\n",
    "            return float(value.replace(\",\", ''))\n",
    "    \n",
    "    # eg, 1200 s.f. up & 1000 s.f. developed lower level, 1200..1000\n",
    "    elif value.count('.') > 1:\n",
    "        # Convert all '.' to '+', and if '..' are together, make it one '+'\n",
    "        value = value.replace('.', '+')\n",
    "        # Remove any consecutive '+' signs\n",
    "        # \"1++2\" would become \"1+2\"\n",
    "        value = re.sub(r'\\++', '+', value)\n",
    "        # Strip any leading/trailing '+' signs\n",
    "        value = value.strip('+')\n",
    "        # Evaluate the expression\n",
    "        return float(eval(value))\n",
    "    \n",
    "    # 1100 up and 1100 down\n",
    "    # 11001100\n",
    "    if len(value) > 4:\n",
    "        return float(value[:4])\n",
    "\n",
    "    # If it's a simple number, convert to int\n",
    "    # if the value is nan, return np.nan and handle it later on\n",
    "    return float(value) if value != \"\" else np.nan\n",
    "\n",
    "   \n",
    "\n",
    "series = original_data.sq_feet.copy()\n",
    "# # test here\n",
    "# print(series[3647])\n",
    "series = series.astype(str)\n",
    "series = series.apply(clean_sq_feet)\n",
    "\n",
    "\n",
    "# check the any remain dirty data\n",
    "special_entries = []\n",
    "for index, value in enumerate(series):\n",
    "    if not isinstance(value, (int, float)):  # Check if value is not a number or is NaN\n",
    "        special_entries.append((value, index))\n",
    "        print(f\"Non-numeric value found: '{value}' at index {index}\")\n",
    "\n",
    "# Check if there are any remaining special entries (non-numeric or NaN values)\n",
    "# If none are found, it means all sq_feet data has been successfully cleaned\n",
    "if len(special_entries) == 0:\n",
    "    '''\n",
    "    update the cleaned data to the original_data\n",
    "    '''\n",
    "    original_data['sq_feet'] = series\n",
    "    print(\"The 'sq_feet' column in original_data has been updated with the cleaned data.\")\n",
    "    \n",
    "    # Print status of the series\n",
    "    print(\"Status of the sq_feet series:\")\n",
    "    print(f\"Maximum value: {series.max()} at index {series.idxmax()}\")\n",
    "    print(f\"Minimum value: {series.min()}\")\n",
    "    print(f\"Number of entries: {len(original_data['sq_feet'])}\")\n",
    "    print(f\"Number of missing value: \",series.isnull().sum())\n",
    "    print(f\"Data type: {series.dtype}\")\n",
    "\n",
    "\n"
   ]
  },
  {
   "cell_type": "markdown",
   "id": "6223dd33",
   "metadata": {
    "papermill": {
     "duration": 0.011826,
     "end_time": "2024-10-16T22:15:39.095697",
     "exception": false,
     "start_time": "2024-10-16T22:15:39.083871",
     "status": "completed"
    },
    "tags": []
   },
   "source": [
    "***Show baths, beds, and sq_feet features unique again***\n"
   ]
  },
  {
   "cell_type": "code",
   "execution_count": 16,
   "id": "e80328be",
   "metadata": {
    "execution": {
     "iopub.execute_input": "2024-10-16T22:15:39.121659Z",
     "iopub.status.busy": "2024-10-16T22:15:39.121294Z",
     "iopub.status.idle": "2024-10-16T22:15:39.128701Z",
     "shell.execute_reply": "2024-10-16T22:15:39.127646Z"
    },
    "papermill": {
     "duration": 0.022805,
     "end_time": "2024-10-16T22:15:39.130704",
     "exception": false,
     "start_time": "2024-10-16T22:15:39.107899",
     "status": "completed"
    },
    "tags": []
   },
   "outputs": [
    {
     "name": "stdout",
     "output_type": "stream",
     "text": [
      "baths: [2.5 1.  2.  1.5 3.5 0.  4.  3.  5.  4.5 7.5 5.5 6.  6.5 7.  8. ],\n",
      "baths has 16 uniques\n",
      "\n",
      "beds: [2 3 0 1 5 4 6 8 7 9],\n",
      "beds has 10 uniques\n",
      "\n",
      "sq_feet: [1403. 1496. 1180. ...  260.  286.  334.],\n",
      "sq_feet has 1631 uniques\n",
      "\n"
     ]
    }
   ],
   "source": [
    "unique_values = get_unique_values(original_data, ['baths', 'beds', 'sq_feet'])\n",
    "for unique in unique_values:\n",
    "    print(f\"{unique}: {unique_values[unique]},\\n{unique} has {len(unique_values[unique])} uniques\\n\")"
   ]
  },
  {
   "cell_type": "markdown",
   "id": "cf5b2fb0",
   "metadata": {
    "papermill": {
     "duration": 0.011807,
     "end_time": "2024-10-16T22:15:39.154620",
     "exception": false,
     "start_time": "2024-10-16T22:15:39.142813",
     "status": "completed"
    },
    "tags": []
   },
   "source": [
    "**2.3.5 Convert the \"smoking\" category to a numerical format.** "
   ]
  },
  {
   "cell_type": "code",
   "execution_count": 17,
   "id": "5793698c",
   "metadata": {
    "execution": {
     "iopub.execute_input": "2024-10-16T22:15:39.181125Z",
     "iopub.status.busy": "2024-10-16T22:15:39.180407Z",
     "iopub.status.idle": "2024-10-16T22:15:39.209018Z",
     "shell.execute_reply": "2024-10-16T22:15:39.207756Z"
    },
    "papermill": {
     "duration": 0.0441,
     "end_time": "2024-10-16T22:15:39.211144",
     "exception": false,
     "start_time": "2024-10-16T22:15:39.167044",
     "status": "completed"
    },
    "tags": []
   },
   "outputs": [
    {
     "name": "stdout",
     "output_type": "stream",
     "text": [
      "smoking: ['Non-Smoking', 'Smoke Free Building', nan, 'Negotiable', 'Smoking Allowed'],\n",
      "smoking has 5 uniques.\n",
      "smoking conversion complete!\n",
      "Status of the smoking series:\n",
      "smoking: [0, 3, 2, 1, 4],\n",
      "smoking has 5 uniques after converting.\n",
      "Number of entries: 25771\n",
      "Data type: int64\n",
      "\n",
      "\n"
     ]
    }
   ],
   "source": [
    "def smoke_convert(value, level_list):\n",
    "    # Convert values to integers based on their index in the list\n",
    "    return int(level_list.index(value))\n",
    "\n",
    "def convert_column_to_numerical(column_name, convert_func, level_list):\n",
    "    # Get unique values in the column\n",
    "    unique_values = get_unique_values(original_data, [column_name])\n",
    "    \n",
    "    # Print unique values and their counts\n",
    "    for unique in unique_values:\n",
    "        print(f\"{unique}: {unique_values[unique].tolist()},\\n{unique} has {len(unique_values[unique])} uniques.\")\n",
    "\n",
    "    # Update the column in the original data with the converted values\n",
    "    # Convert to str first in order to identify nan value\n",
    "    # Lambda Function: Used in the apply method to pass level_list to smoke_convert.\n",
    "    # convert_func(x, level_list): Calls smoke_convert with both the value and level_list.\n",
    "    original_data[column_name] = original_data[column_name].astype(str).apply(lambda x: convert_func(x, level_list))\n",
    "    print(f\"{column_name} conversion complete!\")\n",
    "    print(f\"Status of the {column_name} series:\")\n",
    "    \n",
    "    # print unqiues after converting\n",
    "    unique_values = get_unique_values(original_data, [column_name])\n",
    "    # Print unique values and their counts\n",
    "    for unique in unique_values:\n",
    "        print(f\"{unique}: {unique_values[unique].tolist()},\\n{unique} has {len(unique_values[unique])} uniques after converting.\")\n",
    "    print(f\"Number of entries: {len(original_data[column_name])}\")\n",
    "    print(f\"Data type: {original_data[column_name].dtype}\\n\\n\")\n",
    "\n",
    "# Define the level list\n",
    "level_list = ['Non-Smoking', 'Negotiable', \"nan\", \"Smoke Free Building\", 'Smoking Allowed']\n",
    "\n",
    "# Call the function for the 'smoking' column\n",
    "convert_column_to_numerical('smoking', smoke_convert, level_list)\n"
   ]
  },
  {
   "cell_type": "markdown",
   "id": "2c082276",
   "metadata": {
    "papermill": {
     "duration": 0.012095,
     "end_time": "2024-10-16T22:15:39.235878",
     "exception": false,
     "start_time": "2024-10-16T22:15:39.223783",
     "status": "completed"
    },
    "tags": []
   },
   "source": [
    "**2.3.6 Convert the \"dogs/cat\" category to a numerical format.**"
   ]
  },
  {
   "cell_type": "code",
   "execution_count": 18,
   "id": "6ec9f03c",
   "metadata": {
    "execution": {
     "iopub.execute_input": "2024-10-16T22:15:39.262242Z",
     "iopub.status.busy": "2024-10-16T22:15:39.261838Z",
     "iopub.status.idle": "2024-10-16T22:15:39.318546Z",
     "shell.execute_reply": "2024-10-16T22:15:39.317403Z"
    },
    "papermill": {
     "duration": 0.072421,
     "end_time": "2024-10-16T22:15:39.320717",
     "exception": false,
     "start_time": "2024-10-16T22:15:39.248296",
     "status": "completed"
    },
    "tags": []
   },
   "outputs": [
    {
     "name": "stdout",
     "output_type": "stream",
     "text": [
      "dogs: [True, False, nan],\n",
      "dogs has 3 uniques.\n",
      "dogs conversion complete!\n",
      "Status of the dogs series:\n",
      "dogs: [2, 0, 1],\n",
      "dogs has 3 uniques after converting.\n",
      "Number of entries: 25771\n",
      "Data type: int64\n",
      "\n",
      "\n",
      "cats: [True, False, nan],\n",
      "cats has 3 uniques.\n",
      "cats conversion complete!\n",
      "Status of the cats series:\n",
      "cats: [2, 0, 1],\n",
      "cats has 3 uniques after converting.\n",
      "Number of entries: 25771\n",
      "Data type: int64\n",
      "\n",
      "\n"
     ]
    }
   ],
   "source": [
    "# Define a function to convert pet-related values to numerical format\n",
    "def pet_convert(value, level_list):\n",
    "    # Convert values to integers based on their index in the list\n",
    "    return int(level_list.index(value))\n",
    "\n",
    "# Ranked as: False (0) < nan (1) < True (2)\n",
    "# This represents: No pets allowed (0) < Unknown/Unspecified (1) < Pets allowed (2)\n",
    "level_list = ['False', \"nan\", 'True']\n",
    "\n",
    "# Apply the pet_convert function to 'dogs' and 'cats' columns\n",
    "convert_column_to_numerical('dogs', pet_convert, level_list)\n",
    "convert_column_to_numerical('cats', pet_convert, level_list)"
   ]
  },
  {
   "cell_type": "markdown",
   "id": "858e31ee",
   "metadata": {
    "papermill": {
     "duration": 0.012272,
     "end_time": "2024-10-16T22:15:39.345618",
     "exception": false,
     "start_time": "2024-10-16T22:15:39.333346",
     "status": "completed"
    },
    "tags": []
   },
   "source": [
    "**2.3.7 furnishing column to binary format**"
   ]
  },
  {
   "cell_type": "code",
   "execution_count": 19,
   "id": "ad9830b2",
   "metadata": {
    "execution": {
     "iopub.execute_input": "2024-10-16T22:15:39.372777Z",
     "iopub.status.busy": "2024-10-16T22:15:39.372067Z",
     "iopub.status.idle": "2024-10-16T22:15:39.399417Z",
     "shell.execute_reply": "2024-10-16T22:15:39.398418Z"
    },
    "papermill": {
     "duration": 0.043136,
     "end_time": "2024-10-16T22:15:39.401506",
     "exception": false,
     "start_time": "2024-10-16T22:15:39.358370",
     "status": "completed"
    },
    "tags": []
   },
   "outputs": [
    {
     "name": "stdout",
     "output_type": "stream",
     "text": [
      "furnishing: ['Unfurnished', 'Furnished', 'Negotiable', 'Unfurnished, Negotiable'],\n",
      "furnishing has 4 uniques.\n",
      "furnishing conversion complete!\n",
      "Status of the furnishing series:\n",
      "furnishing: [0, 3, 2, 1],\n",
      "furnishing has 4 uniques after converting.\n",
      "Number of entries: 25771\n",
      "Data type: int64\n",
      "\n",
      "\n"
     ]
    }
   ],
   "source": [
    "unique_values = get_unique_values(original_data, [\"furnishing\"])\n",
    "# Define a function to convert furnishing values to numerical format\n",
    "def furnishing_convert(value, level_list):\n",
    "    # Convert values to integers based on their index in the list\n",
    "    return int(level_list.index(value))\n",
    "\n",
    "# Ranked as: False (0) < nan (1) < True (2)\n",
    "# This represents: No pets allowed (0) < Unknown/Unspecified (1) < Pets allowed (2)\n",
    "level_list = ['Unfurnished', \"Unfurnished, Negotiable\", 'Negotiable', 'Furnished']\n",
    "\n",
    "# Apply the pet_convert function to 'dogs' and 'cats' columns\n",
    "convert_column_to_numerical('furnishing', furnishing_convert, level_list)"
   ]
  },
  {
   "cell_type": "markdown",
   "id": "1e9f7d69",
   "metadata": {
    "papermill": {
     "duration": 0.012354,
     "end_time": "2024-10-16T22:15:39.426775",
     "exception": false,
     "start_time": "2024-10-16T22:15:39.414421",
     "status": "completed"
    },
    "tags": []
   },
   "source": [
    "**2.3.8 Convert city, province, lease_term and type to numeric format**"
   ]
  },
  {
   "cell_type": "code",
   "execution_count": 20,
   "id": "49164165",
   "metadata": {
    "execution": {
     "iopub.execute_input": "2024-10-16T22:15:39.454036Z",
     "iopub.status.busy": "2024-10-16T22:15:39.453094Z",
     "iopub.status.idle": "2024-10-16T22:15:39.511200Z",
     "shell.execute_reply": "2024-10-16T22:15:39.510061Z"
    },
    "papermill": {
     "duration": 0.074124,
     "end_time": "2024-10-16T22:15:39.513379",
     "exception": false,
     "start_time": "2024-10-16T22:15:39.439255",
     "status": "completed"
    },
    "tags": []
   },
   "outputs": [
    {
     "name": "stdout",
     "output_type": "stream",
     "text": [
      "Status of categorical columns before conversion:\n",
      "Missing value for each column:\n",
      "{'city': 0, 'province': 0, 'lease_term': 46, 'type': 0}\n",
      "Uniques for each column:\n",
      "{'city': 269, 'province': 10, 'lease_term': 6, 'type': 15}\n",
      "+---+---------+----------+------------+-----------+\n",
      "|   |  city   | province | lease_term |   type    |\n",
      "+---+---------+----------+------------+-----------+\n",
      "| 0 | Airdrie | Alberta  | Long Term  | Townhouse |\n",
      "| 1 | Airdrie | Alberta  | Long Term  | Townhouse |\n",
      "| 2 | Airdrie | Alberta  | Long Term  | Townhouse |\n",
      "| 3 | Airdrie | Alberta  | Long Term  | Townhouse |\n",
      "| 4 | Airdrie | Alberta  | Long Term  | Townhouse |\n",
      "+---+---------+----------+------------+-----------+\n",
      "Status of categorical columns after conversion:\n",
      "Missing value for each column:\n",
      "{'city': 0, 'province': 0, 'lease_term': 46, 'type': 0}\n",
      "Uniques for each column:\n",
      "{'city': 269, 'province': 10, 'lease_term': 6, 'type': 15}\n",
      "+---+------+----------+------------+------+\n",
      "|   | city | province | lease_term | type |\n",
      "+---+------+----------+------------+------+\n",
      "| 0 | 1.0  |   0.0    |    2.0     | 13.0 |\n",
      "| 1 | 1.0  |   0.0    |    2.0     | 13.0 |\n",
      "| 2 | 1.0  |   0.0    |    2.0     | 13.0 |\n",
      "| 3 | 1.0  |   0.0    |    2.0     | 13.0 |\n",
      "| 4 | 1.0  |   0.0    |    2.0     | 13.0 |\n",
      "+---+------+----------+------------+------+\n"
     ]
    }
   ],
   "source": [
    "def status_of_categorical(categorical_list, original_data):\n",
    "    \"\"\"\n",
    "    Display the status of categorical columns in terms of missing values and unique elements.\n",
    "\n",
    "    Parameters:\n",
    "    categorical_list (list): List of categorical column names.\n",
    "    original_data (DataFrame): The DataFrame containing the data.\n",
    "    \"\"\"\n",
    "    # Calculate the number of missing values for each categorical column\n",
    "    list_of_missing_value = [original_data[col].isnull().sum() for col in categorical_list]\n",
    "    \n",
    "    # Create a dictionary of missing values for presentation\n",
    "    dict_of_missing_value = {col: missing_num for col, missing_num in zip(categorical_list, list_of_missing_value)}\n",
    "    print(f\"Missing value for each column:\\n{dict_of_missing_value}\")\n",
    "    \n",
    "    # Get the number of unique elements for each categorical column\n",
    "    dict_of_num_unique = get_unique_elements_per_column(original_data, categorical_list)\n",
    "    print(f\"Uniques for each column:\\n{dict_of_num_unique}\")\n",
    "    \n",
    "    # Display the first few rows of the categorical columns as a table\n",
    "    table_data = original_data[categorical_list].head()\n",
    "    print(tabulate(table_data, headers='keys', tablefmt='pretty'))\n",
    "\n",
    "def categorical_encoder(categorical_list):\n",
    "    \"\"\"\n",
    "    Encode categorical columns using OrdinalEncoder\n",
    "\n",
    "    Parameters:\n",
    "    categorical_list (list): List of categorical column names to encode.\n",
    "    \"\"\"\n",
    "    # Display the status of categorical columns before conversion\n",
    "    print(\"Status of categorical columns before conversion:\")\n",
    "    status_of_categorical(categorical_list, original_data)\n",
    "    \n",
    "    # Initialize the OrdinalEncoder and transform the categorical columns\n",
    "    ordinal_encoder = OrdinalEncoder()\n",
    "    original_data[categorical_list] = ordinal_encoder.fit_transform(original_data[categorical_list])\n",
    "    \n",
    "    # Display the status of categorical columns after conversion\n",
    "    print(\"Status of categorical columns after conversion:\")\n",
    "    status_of_categorical(categorical_list, original_data)\n",
    "\n",
    "# Transforming Process go here\n",
    "categorical_encoder(['city', 'province', 'lease_term', 'type'])\n"
   ]
  },
  {
   "cell_type": "markdown",
   "id": "92d06b9e",
   "metadata": {
    "_cell_guid": "da394fa3-f194-4d78-9d99-d43e235f8e05",
    "_uuid": "3f3c2c2e-cfc5-43e2-9c49-260cac2ed69e",
    "papermill": {
     "duration": 0.01243,
     "end_time": "2024-10-16T22:15:39.538702",
     "exception": false,
     "start_time": "2024-10-16T22:15:39.526272",
     "status": "completed"
    },
    "tags": []
   },
   "source": [
    "# 3. Handle the missing variables\n",
    "1. Drop Columns with Missing Values¶\n",
    "2. Imputation fills in the missing values with some number. In this case, we fill in the mean value along each column.\n",
    "3. An Extension To Imputation"
   ]
  },
  {
   "cell_type": "markdown",
   "id": "99f2739f",
   "metadata": {
    "papermill": {
     "duration": 0.012393,
     "end_time": "2024-10-16T22:15:39.563771",
     "exception": false,
     "start_time": "2024-10-16T22:15:39.551378",
     "status": "completed"
    },
    "tags": []
   },
   "source": [
    "**3.1 Identify columns with missing values and calculate the details.**"
   ]
  },
  {
   "cell_type": "code",
   "execution_count": 21,
   "id": "5099a7c4",
   "metadata": {
    "_cell_guid": "5e8deee6-fe4e-4575-9622-30c8e5aecf3d",
    "_uuid": "8abd772d-ae50-4341-adf9-b6a320aff4e9",
    "collapsed": false,
    "execution": {
     "iopub.execute_input": "2024-10-16T22:15:39.591337Z",
     "iopub.status.busy": "2024-10-16T22:15:39.590477Z",
     "iopub.status.idle": "2024-10-16T22:15:39.603300Z",
     "shell.execute_reply": "2024-10-16T22:15:39.602285Z"
    },
    "jupyter": {
     "outputs_hidden": false
    },
    "papermill": {
     "duration": 0.029005,
     "end_time": "2024-10-16T22:15:39.605387",
     "exception": false,
     "start_time": "2024-10-16T22:15:39.576382",
     "status": "completed"
    },
    "tags": []
   },
   "outputs": [
    {
     "name": "stdout",
     "output_type": "stream",
     "text": [
      "Columns with missing values:\n",
      "{'lease_term': (46, '0.17850%'), 'sq_feet': (4117, '15.97532%'), 'availability_date': (560, '2.17299%')}\n"
     ]
    }
   ],
   "source": [
    "def get_missing_value_details(dataframe):\n",
    "    \"\"\"\n",
    "    Identify columns with missing values and calculate the details.\n",
    "\n",
    "    Parameters:\n",
    "    dataframe (pd.DataFrame): The DataFrame to analyze.\n",
    "\n",
    "    Returns:\n",
    "    dict: A dictionary where keys are column names with missing values,\n",
    "          and values are tuples containing the count and percentage of missing values.\n",
    "    \"\"\"\n",
    "    # Get columns that have missing values\n",
    "    cols_with_null = [col for col in dataframe.columns if dataframe[col].isnull().any()]\n",
    "\n",
    "    # Calculate the sum and percentage of missing values for each column\n",
    "    sum_of_cols_with_null = list(\n",
    "        map(\n",
    "            lambda col: (\n",
    "                dataframe[col].isnull().sum(),  # Total number of missing values in the column\n",
    "                \"{:.5f}%\".format(dataframe[col].isnull().sum() / len(dataframe) * 100)  # Percentage of missing values\n",
    "            ),\n",
    "            cols_with_null\n",
    "        )\n",
    "    )\n",
    "\n",
    "    # Combine the column names with their respective missing value details into a dictionary    \n",
    "    combined_missing_value_dict = dict(zip(cols_with_null, sum_of_cols_with_null))\n",
    "\n",
    "    return combined_missing_value_dict\n",
    "\n",
    "\n",
    "combined_missing_value_dict = get_missing_value_details(original_data)\n",
    "print(f\"Columns with missing values:\\n{combined_missing_value_dict}\")\n"
   ]
  },
  {
   "cell_type": "markdown",
   "id": "c92fa5a6",
   "metadata": {
    "_cell_guid": "3db4e54d-f6f2-4637-9649-27a2c9bc9f77",
    "_uuid": "fcccaed1-b619-47f3-9216-99553fa9dd13",
    "papermill": {
     "duration": 0.012898,
     "end_time": "2024-10-16T22:15:39.631112",
     "exception": false,
     "start_time": "2024-10-16T22:15:39.618214",
     "status": "completed"
    },
    "tags": []
   },
   "source": [
    "> Since the column 'sq_feet' has the highest number of missing values at 850 cases, which is only 0.16489% of the entire dataset, removing the entire column is not advisable. Therefore, using imputation to handle these missing values would be a better approach\n"
   ]
  },
  {
   "cell_type": "code",
   "execution_count": 22,
   "id": "4b5f7f71",
   "metadata": {
    "_cell_guid": "825bf089-cd43-41a9-bded-c81bab0dc582",
    "_uuid": "4d2b3301-f8ae-452c-a5c3-fcfdc19400e0",
    "collapsed": false,
    "execution": {
     "iopub.execute_input": "2024-10-16T22:15:39.658547Z",
     "iopub.status.busy": "2024-10-16T22:15:39.657668Z",
     "iopub.status.idle": "2024-10-16T22:15:39.662966Z",
     "shell.execute_reply": "2024-10-16T22:15:39.662072Z"
    },
    "jupyter": {
     "outputs_hidden": false
    },
    "papermill": {
     "duration": 0.021357,
     "end_time": "2024-10-16T22:15:39.665095",
     "exception": false,
     "start_time": "2024-10-16T22:15:39.643738",
     "status": "completed"
    },
    "tags": []
   },
   "outputs": [
    {
     "name": "stdout",
     "output_type": "stream",
     "text": [
      "MAE from Imputation:\n"
     ]
    }
   ],
   "source": [
    "# try Impution to handle the missing value\n",
    "imputer = SimpleImputer()\n",
    "# handle_X_train = pd.DataFrame(imputer.fit_transform(X_train))\n",
    "# handle_X_valid = pd.DataFrame(imputer.transform(X_val))\n",
    "\n",
    "# check the dataset score after the imputer\n",
    "print(\"MAE from Imputation:\")\n",
    "# print(score_dataset(handle_X_train, handle_X_valid, y_train, y_valid))"
   ]
  },
  {
   "cell_type": "markdown",
   "id": "906df130",
   "metadata": {
    "papermill": {
     "duration": 0.01265,
     "end_time": "2024-10-16T22:15:39.690676",
     "exception": false,
     "start_time": "2024-10-16T22:15:39.678026",
     "status": "completed"
    },
    "tags": []
   },
   "source": [
    "**3.2 Consider employing an alternative model to estimate the missing variable; for example, use the existing number of bedrooms and bathrooms to predict the square footage.**"
   ]
  },
  {
   "cell_type": "markdown",
   "id": "c3910fc4",
   "metadata": {
    "papermill": {
     "duration": 0.012749,
     "end_time": "2024-10-16T22:15:39.716283",
     "exception": false,
     "start_time": "2024-10-16T22:15:39.703534",
     "status": "completed"
    },
    "tags": []
   },
   "source": [
    "**3.3 Try using mulit-imputation to handle the missing variable**"
   ]
  },
  {
   "cell_type": "code",
   "execution_count": null,
   "id": "7b85369f",
   "metadata": {
    "_cell_guid": "b796a3d7-8f55-4322-b823-9dedf9346a93",
    "_uuid": "4aa0dbed-79b4-4b37-8e85-1cf2489ecc1f",
    "collapsed": false,
    "jupyter": {
     "outputs_hidden": false
    },
    "papermill": {
     "duration": 0.012621,
     "end_time": "2024-10-16T22:15:39.741726",
     "exception": false,
     "start_time": "2024-10-16T22:15:39.729105",
     "status": "completed"
    },
    "tags": []
   },
   "outputs": [],
   "source": []
  },
  {
   "cell_type": "markdown",
   "id": "c4adbf4c",
   "metadata": {
    "papermill": {
     "duration": 0.012664,
     "end_time": "2024-10-16T22:15:39.767163",
     "exception": false,
     "start_time": "2024-10-16T22:15:39.754499",
     "status": "completed"
    },
    "tags": []
   },
   "source": [
    "# 4. Visualize the data"
   ]
  },
  {
   "cell_type": "code",
   "execution_count": 23,
   "id": "eaa17c35",
   "metadata": {
    "execution": {
     "iopub.execute_input": "2024-10-16T22:15:39.794805Z",
     "iopub.status.busy": "2024-10-16T22:15:39.793959Z",
     "iopub.status.idle": "2024-10-16T22:15:43.047873Z",
     "shell.execute_reply": "2024-10-16T22:15:43.046797Z"
    },
    "papermill": {
     "duration": 3.270959,
     "end_time": "2024-10-16T22:15:43.050872",
     "exception": false,
     "start_time": "2024-10-16T22:15:39.779913",
     "status": "completed"
    },
    "tags": []
   },
   "outputs": [
    {
     "data": {
      "text/plain": [
       "array([[<Axes: title={'center': 'rentfaster_id'}>,\n",
       "        <Axes: title={'center': 'city'}>,\n",
       "        <Axes: title={'center': 'province'}>,\n",
       "        <Axes: title={'center': 'latitude'}>],\n",
       "       [<Axes: title={'center': 'longitude'}>,\n",
       "        <Axes: title={'center': 'lease_term'}>,\n",
       "        <Axes: title={'center': 'type'}>,\n",
       "        <Axes: title={'center': 'price'}>],\n",
       "       [<Axes: title={'center': 'beds'}>,\n",
       "        <Axes: title={'center': 'baths'}>,\n",
       "        <Axes: title={'center': 'sq_feet'}>,\n",
       "        <Axes: title={'center': 'furnishing'}>],\n",
       "       [<Axes: title={'center': 'availability_date'}>,\n",
       "        <Axes: title={'center': 'smoking'}>,\n",
       "        <Axes: title={'center': 'cats'}>,\n",
       "        <Axes: title={'center': 'dogs'}>]], dtype=object)"
      ]
     },
     "execution_count": 23,
     "metadata": {},
     "output_type": "execute_result"
    },
    {
     "data": {
      "image/png": "[encoded data removed]",
      "text/plain": [
       "<Figure size 1500x1500 with 16 Axes>"
      ]
     },
     "metadata": {},
     "output_type": "display_data"
    }
   ],
   "source": [
    "original_data.hist(figsize=(15, 15))"
   ]
  },
  {
   "cell_type": "code",
   "execution_count": null,
   "id": "c5958ad9",
   "metadata": {
    "papermill": {
     "duration": 0.016402,
     "end_time": "2024-10-16T22:15:43.082517",
     "exception": false,
     "start_time": "2024-10-16T22:15:43.066115",
     "status": "completed"
    },
    "tags": []
   },
   "outputs": [],
   "source": []
  }
 ],
 "metadata": {
  "kaggle": {
   "accelerator": "none",
   "dataSources": [
    {
     "datasetId": 5214669,
     "sourceId": 8695563,
     "sourceType": "datasetVersion"
    }
   ],
   "dockerImageVersionId": 30786,
   "isGpuEnabled": false,
   "isInternetEnabled": true,
   "language": "python",
   "sourceType": "notebook"
  },
  "kernelspec": {
   "display_name": "Python 3",
   "language": "python",
   "name": "python3"
  },
  "language_info": {
   "codemirror_mode": {
    "name": "ipython",
    "version": 3
   },
   "file_extension": ".py",
   "mimetype": "text/x-python",
   "name": "python",
   "nbconvert_exporter": "python",
   "pygments_lexer": "ipython3",
   "version": "3.10.14"
  },
  "papermill": {
   "default_parameters": {},
   "duration": 16.080816,
   "end_time": "2024-10-16T22:15:43.718456",
   "environment_variables": {},
   "exception": null,
   "input_path": "__notebook__.ipynb",
   "output_path": "__notebook__.ipynb",
   "parameters": {},
   "start_time": "2024-10-16T22:15:27.637640",
   "version": "2.6.0"
  }
 },
 "nbformat": 4,
 "nbformat_minor": 5
}
